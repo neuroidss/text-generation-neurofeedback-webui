{
  "cells": [
    {
      "cell_type": "markdown",
      "metadata": {
        "id": "view-in-github"
      },
      "source": [
        "[![Open In Colab](https://colab.research.google.com/assets/colab-badge.svg)](https://colab.research.google.com/github/neuroidss/text-generation-neurofeedback-webui/blob/main/text-generation_neurofeedback_colab.ipynb)"
      ]
    },
    {
      "cell_type": "code",
      "execution_count": null,
      "metadata": {},
      "outputs": [],
      "source": [
        "%cd /content\n",
        "!git clone https://github.com/neuroidss/text-generation-neurofeedback-webui\n",
        "%cd /content/text-generation-neurofeedback-webui\n",
        "!pip install -r requirements.txt\n",
        "!python download-model.py TheBloke/vicuna-AlekseyKorshuk-7B-GPTQ-4bit-128g\n",
        "!pip install num2words omegaconf\n",
        "!pip install https://github.com/jllllll/GPTQ-for-LLaMa-Wheels/raw/Linux-x64/quant_cuda-0.0.0-cp310-cp310-linux_x86_64.whl\n",
        "!python server.py --chat --model TheBloke_vicuna-AlekseyKorshuk-7B-GPTQ-4bit-128g --extensions silero_tts --sdp-attention --share"
      ]
    }
  ],
  "metadata": {
    "accelerator": "GPU",
    "colab": {
      "gpuType": "T4",
      "provenance": []
    },
    "kernelspec": {
      "display_name": "Python 3",
      "name": "python3"
    },
    "language_info": {
      "name": "python"
    }
  },
  "nbformat": 4,
  "nbformat_minor": 0
}
